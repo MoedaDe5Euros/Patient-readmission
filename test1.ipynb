{
 "cells": [
  {
   "cell_type": "code",
   "execution_count": 1,
   "metadata": {},
   "outputs": [],
   "source": [
    "from IPython.core.interactiveshell import InteractiveShell\n",
    "InteractiveShell.ast_node_interactivity = \"all\""
   ]
  },
  {
   "cell_type": "code",
   "execution_count": 2,
   "metadata": {},
   "outputs": [
    {
     "name": "stderr",
     "output_type": "stream",
     "text": [
      "2023-09-03 21:32:01.179504: I tensorflow/tsl/cuda/cudart_stub.cc:28] Could not find cuda drivers on your machine, GPU will not be used.\n",
      "2023-09-03 21:32:01.221192: I tensorflow/tsl/cuda/cudart_stub.cc:28] Could not find cuda drivers on your machine, GPU will not be used.\n",
      "2023-09-03 21:32:01.222058: I tensorflow/core/platform/cpu_feature_guard.cc:182] This TensorFlow binary is optimized to use available CPU instructions in performance-critical operations.\n",
      "To enable the following instructions: AVX2 FMA, in other operations, rebuild TensorFlow with the appropriate compiler flags.\n",
      "2023-09-03 21:32:01.897421: W tensorflow/compiler/tf2tensorrt/utils/py_utils.cc:38] TF-TRT Warning: Could not find TensorRT\n"
     ]
    }
   ],
   "source": [
    "import pandas as pd\n",
    "import seaborn as sns\n",
    "import numpy as np\n",
    "from sklearn.model_selection import train_test_split\n",
    "from sklearn.preprocessing import StandardScaler\n",
    "from sklearn.linear_model import LogisticRegression\n",
    "from sklearn.metrics import confusion_matrix\n",
    "from sklearn.metrics import accuracy_score\n",
    "import tensorflow as tf\n",
    "from tensorflow import keras\n",
    "from keras import layers\n",
    "import re\n",
    "import matplotlib.pyplot as plt\n",
    "\n"
   ]
  },
  {
   "cell_type": "code",
   "execution_count": 3,
   "metadata": {},
   "outputs": [],
   "source": [
    "admission = pd.read_csv('./mimic-iv-2.2/hosp/admissions.csv.gz',nrows=1000000)"
   ]
  },
  {
   "cell_type": "code",
   "execution_count": 4,
   "metadata": {},
   "outputs": [],
   "source": [
    "patients = pd.read_csv('./mimic-iv-2.2/hosp/patients.csv.gz', nrows=1000000)"
   ]
  },
  {
   "cell_type": "code",
   "execution_count": 5,
   "metadata": {},
   "outputs": [],
   "source": [
    "fSubID = pd.read_csv('./mimic-iv-2.2/hosp/diagnoses_icd.csv.gz', nrows=1000000)\n",
    "\n",
    "dfIcd = pd.read_csv('./mimic-iv-2.2/hosp/d_icd_diagnoses.csv.gz', nrows=1000000)"
   ]
  },
  {
   "cell_type": "markdown",
   "metadata": {},
   "source": [
    "Since we have to convert them to numerical values, might as well do it now :D"
   ]
  },
  {
   "cell_type": "code",
   "execution_count": 6,
   "metadata": {},
   "outputs": [],
   "source": [
    "admission['admittime'] = pd.to_datetime(admission['admittime'])\n",
    "admission['dischtime'] = pd.to_datetime(admission['dischtime'])\n",
    "admission['edregtime'] = pd.to_datetime(admission['edregtime'])\n",
    "admission['edouttime'] = pd.to_datetime(admission['edouttime'])\n",
    "admission['deathtime'] = pd.to_datetime(admission['deathtime'])"
   ]
  },
  {
   "cell_type": "code",
   "execution_count": null,
   "metadata": {},
   "outputs": [],
   "source": [
    "reference_datetime = pd.Timestamp('2023-01-01')  \n",
    "admission['admittime'] = (admission['admittime'] - reference_datetime).dt.total_seconds()\n",
    "admission['dischtime'] = (admission['dischtime'] - reference_datetime).dt.total_seconds()\n",
    "admission['edregtime'] = (admission['edregtime'] - reference_datetime).dt.total_seconds()\n",
    "admission['edouttime'] = (admission['edouttime'] - reference_datetime).dt.total_seconds()\n",
    "admission['deathtime'] = (admission['deathtime'] - reference_datetime).dt.total_seconds()\n",
    "\n",
    "\n",
    "admission['deathtime'] = admission['deathtime'].fillna(0)\n",
    "\n",
    "\n"
   ]
  },
  {
   "cell_type": "code",
   "execution_count": null,
   "metadata": {},
   "outputs": [],
   "source": [
    "admission"
   ]
  },
  {
   "cell_type": "code",
   "execution_count": null,
   "metadata": {},
   "outputs": [],
   "source": [
    "dfIcd\n",
    "\n",
    "fSubID"
   ]
  },
  {
   "cell_type": "code",
   "execution_count": 7,
   "metadata": {},
   "outputs": [],
   "source": [
    "diagnoses = pd.merge(fSubID, dfIcd, on='icd_code')"
   ]
  },
  {
   "cell_type": "code",
   "execution_count": null,
   "metadata": {},
   "outputs": [],
   "source": [
    "diagnoses"
   ]
  },
  {
   "cell_type": "code",
   "execution_count": null,
   "metadata": {},
   "outputs": [],
   "source": [
    "patients"
   ]
  },
  {
   "cell_type": "markdown",
   "metadata": {},
   "source": [
    "Turn this column ('anchor_year_group') into a numerical one"
   ]
  },
  {
   "cell_type": "code",
   "execution_count": null,
   "metadata": {},
   "outputs": [],
   "source": [
    "pattern = r'(\\d+) - (\\d+)'\n",
    "pattern1 = r'(\\d+) - (\\d+)'\n",
    "\n",
    "first_age = patients['anchor_year_group'].str.extract(pattern)[0].astype(int)\n",
    "second_age = patients['anchor_year_group'].str.extract(pattern1)[1].astype(int)\n",
    "\n",
    "patients['anchor_year_group'] = second_age - first_age \n",
    "\n",
    "\n",
    "\n",
    "\n"
   ]
  },
  {
   "cell_type": "markdown",
   "metadata": {},
   "source": [
    "Transform 'dod' into a numerical column"
   ]
  },
  {
   "cell_type": "code",
   "execution_count": null,
   "metadata": {},
   "outputs": [],
   "source": [
    "patients['dod'] = patients['dod'].fillna(0)\n",
    "\n",
    "\n",
    "patients['dod'] = pd.to_datetime(patients['dod'])\n",
    "patients['dod'] = (patients['dod'] - reference_datetime).dt.total_seconds()\n"
   ]
  },
  {
   "cell_type": "code",
   "execution_count": null,
   "metadata": {},
   "outputs": [],
   "source": [
    "admission"
   ]
  },
  {
   "cell_type": "code",
   "execution_count": 8,
   "metadata": {},
   "outputs": [],
   "source": [
    "patients = pd.merge(patients, admission, on='subject_id', how='left')"
   ]
  },
  {
   "cell_type": "code",
   "execution_count": null,
   "metadata": {},
   "outputs": [],
   "source": [
    "patients"
   ]
  },
  {
   "cell_type": "code",
   "execution_count": 9,
   "metadata": {},
   "outputs": [],
   "source": [
    "def check_readmission(subdf):\n",
    "    subdf = subdf.sort_values(by='admittime')\n",
    "    time_differences = (subdf['admittime'].iloc[1:].reset_index(drop=True) - \n",
    "      subdf['dischtime'].iloc[0:-1].reset_index(drop = True)\n",
    "    )\n",
    "    readmission = (time_differences.dt.days < 30).astype(int)\n",
    "    readmission = np.append(readmission,0)\n",
    "    return readmission"
   ]
  },
  {
   "cell_type": "code",
   "execution_count": null,
   "metadata": {},
   "outputs": [],
   "source": [
    "def maskFor30Days(df):\n",
    "    time_differences = (df['admittime'].iloc[1:].reset_index(drop=True) - \n",
    "                        df['dischtime'].iloc[0:-1].reset_index(drop=True)\n",
    "    )\n",
    "    readmission =(time_differences.dt.days<=30)\n",
    "    readmission = np.append(readmission, False)\n",
    "    return readmission"
   ]
  },
  {
   "cell_type": "code",
   "execution_count": null,
   "metadata": {},
   "outputs": [],
   "source": [
    "def chatgptMask(df):\n",
    "    time_differences = df['admittime'].shift(-1) - df['dischtime']\n",
    "    readmission = time_differences <= (30 * 24 * 60 * 60)  \n",
    "    readmission.iloc[-1] = False\n",
    "    return df[readmission]\n"
   ]
  },
  {
   "cell_type": "code",
   "execution_count": null,
   "metadata": {},
   "outputs": [],
   "source": [
    "finalDf = check_readmission(patients)"
   ]
  },
  {
   "cell_type": "code",
   "execution_count": null,
   "metadata": {},
   "outputs": [],
   "source": [
    "finalDf"
   ]
  },
  {
   "cell_type": "code",
   "execution_count": 10,
   "metadata": {},
   "outputs": [],
   "source": [
    "target = (patients.groupby('subject_id').apply(check_readmission)).explode().to_frame()\n",
    "target.reset_index(inplace=True)\n",
    "target.columns = ['subject_id','target']"
   ]
  },
  {
   "cell_type": "code",
   "execution_count": null,
   "metadata": {},
   "outputs": [],
   "source": [
    "target['target'].value_counts(normalize = True)"
   ]
  },
  {
   "cell_type": "code",
   "execution_count": 11,
   "metadata": {},
   "outputs": [],
   "source": [
    "hospitalitizions = pd.merge(target, diagnoses, on='subject_id')\n"
   ]
  },
  {
   "cell_type": "code",
   "execution_count": null,
   "metadata": {},
   "outputs": [],
   "source": [
    "hospitalitizions = chatgptMask(hospitalitizions)"
   ]
  },
  {
   "cell_type": "code",
   "execution_count": null,
   "metadata": {},
   "outputs": [],
   "source": [
    "hospitalitizions"
   ]
  },
  {
   "cell_type": "code",
   "execution_count": 12,
   "metadata": {},
   "outputs": [],
   "source": [
    "admissions_per_patient = hospitalitizions.groupby('subject_id').size().reset_index(name='count_adm')\n",
    "\n",
    "hospitalitizions = pd.merge(hospitalitizions, admissions_per_patient, on='subject_id')\n"
   ]
  },
  {
   "cell_type": "markdown",
   "metadata": {},
   "source": [
    "Removing the annoying columns...."
   ]
  },
  {
   "cell_type": "code",
   "execution_count": 14,
   "metadata": {},
   "outputs": [],
   "source": [
    "pattern = r'.*_y$'\n",
    "\n",
    "annoying_columns = [col for col in hospitalitizions.columns if re.match(pattern, col)]\n",
    "\n",
    "hospitalitizions = hospitalitizions.drop(columns=annoying_columns)"
   ]
  },
  {
   "cell_type": "markdown",
   "metadata": {},
   "source": [
    "Renaming the not so annoying columns"
   ]
  },
  {
   "cell_type": "code",
   "execution_count": 17,
   "metadata": {},
   "outputs": [],
   "source": [
    "pattern = r'.*_x$'\n",
    "\n",
    "for col in patients.columns:\n",
    "    if re.match(pattern, col):\n",
    "        new_col_name = col[:-2] \n",
    "        patients.rename(columns={col: new_col_name}, inplace=True)\n"
   ]
  },
  {
   "cell_type": "code",
   "execution_count": 18,
   "metadata": {},
   "outputs": [
    {
     "data": {
      "text/html": [
       "<div>\n",
       "<style scoped>\n",
       "    .dataframe tbody tr th:only-of-type {\n",
       "        vertical-align: middle;\n",
       "    }\n",
       "\n",
       "    .dataframe tbody tr th {\n",
       "        vertical-align: top;\n",
       "    }\n",
       "\n",
       "    .dataframe thead th {\n",
       "        text-align: right;\n",
       "    }\n",
       "</style>\n",
       "<table border=\"1\" class=\"dataframe\">\n",
       "  <thead>\n",
       "    <tr style=\"text-align: right;\">\n",
       "      <th></th>\n",
       "      <th>subject_id</th>\n",
       "      <th>target</th>\n",
       "      <th>hadm_id</th>\n",
       "      <th>seq_num</th>\n",
       "      <th>icd_code</th>\n",
       "      <th>icd_version_x</th>\n",
       "      <th>long_title</th>\n",
       "      <th>count_adm</th>\n",
       "    </tr>\n",
       "  </thead>\n",
       "  <tbody>\n",
       "    <tr>\n",
       "      <th>0</th>\n",
       "      <td>10000032</td>\n",
       "      <td>0</td>\n",
       "      <td>22595853</td>\n",
       "      <td>1</td>\n",
       "      <td>5723</td>\n",
       "      <td>9</td>\n",
       "      <td>Portal hypertension</td>\n",
       "      <td>164</td>\n",
       "    </tr>\n",
       "    <tr>\n",
       "      <th>1</th>\n",
       "      <td>10000032</td>\n",
       "      <td>0</td>\n",
       "      <td>22595853</td>\n",
       "      <td>2</td>\n",
       "      <td>78959</td>\n",
       "      <td>9</td>\n",
       "      <td>Other ascites</td>\n",
       "      <td>164</td>\n",
       "    </tr>\n",
       "    <tr>\n",
       "      <th>2</th>\n",
       "      <td>10000032</td>\n",
       "      <td>0</td>\n",
       "      <td>22841357</td>\n",
       "      <td>2</td>\n",
       "      <td>78959</td>\n",
       "      <td>9</td>\n",
       "      <td>Other ascites</td>\n",
       "      <td>164</td>\n",
       "    </tr>\n",
       "    <tr>\n",
       "      <th>3</th>\n",
       "      <td>10000032</td>\n",
       "      <td>0</td>\n",
       "      <td>25742920</td>\n",
       "      <td>2</td>\n",
       "      <td>78959</td>\n",
       "      <td>9</td>\n",
       "      <td>Other ascites</td>\n",
       "      <td>164</td>\n",
       "    </tr>\n",
       "    <tr>\n",
       "      <th>4</th>\n",
       "      <td>10000032</td>\n",
       "      <td>0</td>\n",
       "      <td>29079034</td>\n",
       "      <td>5</td>\n",
       "      <td>78959</td>\n",
       "      <td>9</td>\n",
       "      <td>Other ascites</td>\n",
       "      <td>164</td>\n",
       "    </tr>\n",
       "    <tr>\n",
       "      <th>...</th>\n",
       "      <td>...</td>\n",
       "      <td>...</td>\n",
       "      <td>...</td>\n",
       "      <td>...</td>\n",
       "      <td>...</td>\n",
       "      <td>...</td>\n",
       "      <td>...</td>\n",
       "      <td>...</td>\n",
       "    </tr>\n",
       "    <tr>\n",
       "      <th>8358896</th>\n",
       "      <td>12120444</td>\n",
       "      <td>0</td>\n",
       "      <td>24125093</td>\n",
       "      <td>9</td>\n",
       "      <td>B370</td>\n",
       "      <td>10</td>\n",
       "      <td>Candidal stomatitis</td>\n",
       "      <td>12</td>\n",
       "    </tr>\n",
       "    <tr>\n",
       "      <th>8358897</th>\n",
       "      <td>12120444</td>\n",
       "      <td>0</td>\n",
       "      <td>24125093</td>\n",
       "      <td>12</td>\n",
       "      <td>M353</td>\n",
       "      <td>10</td>\n",
       "      <td>Polymyalgia rheumatica</td>\n",
       "      <td>12</td>\n",
       "    </tr>\n",
       "    <tr>\n",
       "      <th>8358898</th>\n",
       "      <td>12120444</td>\n",
       "      <td>0</td>\n",
       "      <td>24125093</td>\n",
       "      <td>8</td>\n",
       "      <td>Q211</td>\n",
       "      <td>10</td>\n",
       "      <td>Atrial septal defect</td>\n",
       "      <td>12</td>\n",
       "    </tr>\n",
       "    <tr>\n",
       "      <th>8358899</th>\n",
       "      <td>12120444</td>\n",
       "      <td>0</td>\n",
       "      <td>24125093</td>\n",
       "      <td>11</td>\n",
       "      <td>G939</td>\n",
       "      <td>10</td>\n",
       "      <td>Disorder of brain, unspecified</td>\n",
       "      <td>12</td>\n",
       "    </tr>\n",
       "    <tr>\n",
       "      <th>8358900</th>\n",
       "      <td>12120444</td>\n",
       "      <td>0</td>\n",
       "      <td>24125093</td>\n",
       "      <td>1</td>\n",
       "      <td>I629</td>\n",
       "      <td>10</td>\n",
       "      <td>Nontraumatic intracranial hemorrhage, unspecified</td>\n",
       "      <td>12</td>\n",
       "    </tr>\n",
       "  </tbody>\n",
       "</table>\n",
       "<p>8358901 rows × 8 columns</p>\n",
       "</div>"
      ],
      "text/plain": [
       "         subject_id target   hadm_id  seq_num icd_code  icd_version_x  \\\n",
       "0          10000032      0  22595853        1     5723              9   \n",
       "1          10000032      0  22595853        2    78959              9   \n",
       "2          10000032      0  22841357        2    78959              9   \n",
       "3          10000032      0  25742920        2    78959              9   \n",
       "4          10000032      0  29079034        5    78959              9   \n",
       "...             ...    ...       ...      ...      ...            ...   \n",
       "8358896    12120444      0  24125093        9     B370             10   \n",
       "8358897    12120444      0  24125093       12     M353             10   \n",
       "8358898    12120444      0  24125093        8     Q211             10   \n",
       "8358899    12120444      0  24125093       11     G939             10   \n",
       "8358900    12120444      0  24125093        1     I629             10   \n",
       "\n",
       "                                                long_title  count_adm  \n",
       "0                                      Portal hypertension        164  \n",
       "1                                            Other ascites        164  \n",
       "2                                            Other ascites        164  \n",
       "3                                            Other ascites        164  \n",
       "4                                            Other ascites        164  \n",
       "...                                                    ...        ...  \n",
       "8358896                                Candidal stomatitis         12  \n",
       "8358897                             Polymyalgia rheumatica         12  \n",
       "8358898                               Atrial septal defect         12  \n",
       "8358899                     Disorder of brain, unspecified         12  \n",
       "8358900  Nontraumatic intracranial hemorrhage, unspecified         12  \n",
       "\n",
       "[8358901 rows x 8 columns]"
      ]
     },
     "execution_count": 18,
     "metadata": {},
     "output_type": "execute_result"
    }
   ],
   "source": [
    "hospitalitizions"
   ]
  },
  {
   "cell_type": "code",
   "execution_count": null,
   "metadata": {},
   "outputs": [],
   "source": [
    "hospitalitizions['long_title'].value_counts()"
   ]
  },
  {
   "cell_type": "code",
   "execution_count": null,
   "metadata": {},
   "outputs": [],
   "source": [
    "mostAdmitted = hospitalitizions['subject_id'].value_counts().index[0]"
   ]
  },
  {
   "cell_type": "code",
   "execution_count": null,
   "metadata": {},
   "outputs": [],
   "source": [
    "hospitalitizions[hospitalitizions['subject_id'] == mostAdmitted]"
   ]
  },
  {
   "cell_type": "markdown",
   "metadata": {},
   "source": [
    "# Lets categorize columns <p>\n",
    "But let's automatize it :D"
   ]
  },
  {
   "cell_type": "code",
   "execution_count": 19,
   "metadata": {},
   "outputs": [],
   "source": [
    "\n",
    "numerical_columns = hospitalitizions.select_dtypes(exclude='object')\n",
    "numerical_columns_names = numerical_columns.columns\n",
    "\n",
    "numerical_columns_names = numerical_columns_names.to_list()\n",
    "\n",
    "categorical_columns = hospitalitizions.drop(columns=numerical_columns_names)\n",
    "\n",
    "categorical_columns_names = categorical_columns.columns.to_list()"
   ]
  },
  {
   "cell_type": "code",
   "execution_count": null,
   "metadata": {},
   "outputs": [],
   "source": [
    "numerical_columns\n",
    "categorical_columns"
   ]
  },
  {
   "cell_type": "code",
   "execution_count": null,
   "metadata": {},
   "outputs": [],
   "source": [
    "categorical_columns_names"
   ]
  },
  {
   "cell_type": "code",
   "execution_count": 20,
   "metadata": {},
   "outputs": [],
   "source": [
    "dictionary = {}\n",
    "for col_name in categorical_columns_names:\n",
    "    unique_values = hospitalitizions[col_name].unique()\n",
    "    mapping = {value : i+1 for i, value in enumerate(unique_values)}\n",
    "    dictionary[col_name] = mapping\n",
    "\n",
    "\n",
    "for col_name, mapping in dictionary.items():\n",
    "    hospitalitizions[col_name] = hospitalitizions[col_name].map(mapping)\n"
   ]
  },
  {
   "cell_type": "code",
   "execution_count": null,
   "metadata": {},
   "outputs": [],
   "source": [
    "hospitalitizions['count_adm'].value_counts()\n"
   ]
  },
  {
   "cell_type": "markdown",
   "metadata": {},
   "source": [
    "33 races?? Goodness gracious <p> Most importantly, 'Portuguese' is a race :D <p>  . <p> .  <p>   .<p> .  <p> Is 'Amadora' also a race :O"
   ]
  },
  {
   "cell_type": "code",
   "execution_count": null,
   "metadata": {},
   "outputs": [],
   "source": [
    "hospitalitizions['race'].value_counts().count()"
   ]
  },
  {
   "cell_type": "code",
   "execution_count": null,
   "metadata": {},
   "outputs": [],
   "source": [
    "categorical_columns['insurance'].value_counts()"
   ]
  },
  {
   "cell_type": "code",
   "execution_count": null,
   "metadata": {},
   "outputs": [],
   "source": [
    "categorical_columns['marital_status'].value_counts()\n",
    "\n",
    "plt.plot('insurance', 'language', data=hospitalitizions)\n",
    "plt.xlabel('count_adm')\n",
    "plt.ylabel('language')\n",
    "plt.show()"
   ]
  },
  {
   "cell_type": "code",
   "execution_count": null,
   "metadata": {},
   "outputs": [],
   "source": [
    "#numerical_colums = hospitalitizions.select_dtypes(exclude=['object'])\n",
    "hospitalitizions.columns.to_list()"
   ]
  },
  {
   "cell_type": "code",
   "execution_count": 21,
   "metadata": {},
   "outputs": [
    {
     "data": {
      "text/html": [
       "<div>\n",
       "<style scoped>\n",
       "    .dataframe tbody tr th:only-of-type {\n",
       "        vertical-align: middle;\n",
       "    }\n",
       "\n",
       "    .dataframe tbody tr th {\n",
       "        vertical-align: top;\n",
       "    }\n",
       "\n",
       "    .dataframe thead th {\n",
       "        text-align: right;\n",
       "    }\n",
       "</style>\n",
       "<table border=\"1\" class=\"dataframe\">\n",
       "  <thead>\n",
       "    <tr style=\"text-align: right;\">\n",
       "      <th></th>\n",
       "      <th>subject_id</th>\n",
       "      <th>target</th>\n",
       "      <th>hadm_id</th>\n",
       "      <th>seq_num</th>\n",
       "      <th>icd_code</th>\n",
       "      <th>icd_version_x</th>\n",
       "      <th>long_title</th>\n",
       "      <th>count_adm</th>\n",
       "    </tr>\n",
       "  </thead>\n",
       "  <tbody>\n",
       "    <tr>\n",
       "      <th>0</th>\n",
       "      <td>10000032</td>\n",
       "      <td>1</td>\n",
       "      <td>22595853</td>\n",
       "      <td>1</td>\n",
       "      <td>1</td>\n",
       "      <td>9</td>\n",
       "      <td>1</td>\n",
       "      <td>164</td>\n",
       "    </tr>\n",
       "    <tr>\n",
       "      <th>1</th>\n",
       "      <td>10000032</td>\n",
       "      <td>1</td>\n",
       "      <td>22595853</td>\n",
       "      <td>2</td>\n",
       "      <td>2</td>\n",
       "      <td>9</td>\n",
       "      <td>2</td>\n",
       "      <td>164</td>\n",
       "    </tr>\n",
       "    <tr>\n",
       "      <th>2</th>\n",
       "      <td>10000032</td>\n",
       "      <td>1</td>\n",
       "      <td>22841357</td>\n",
       "      <td>2</td>\n",
       "      <td>2</td>\n",
       "      <td>9</td>\n",
       "      <td>2</td>\n",
       "      <td>164</td>\n",
       "    </tr>\n",
       "    <tr>\n",
       "      <th>3</th>\n",
       "      <td>10000032</td>\n",
       "      <td>1</td>\n",
       "      <td>25742920</td>\n",
       "      <td>2</td>\n",
       "      <td>2</td>\n",
       "      <td>9</td>\n",
       "      <td>2</td>\n",
       "      <td>164</td>\n",
       "    </tr>\n",
       "    <tr>\n",
       "      <th>4</th>\n",
       "      <td>10000032</td>\n",
       "      <td>1</td>\n",
       "      <td>29079034</td>\n",
       "      <td>5</td>\n",
       "      <td>2</td>\n",
       "      <td>9</td>\n",
       "      <td>2</td>\n",
       "      <td>164</td>\n",
       "    </tr>\n",
       "    <tr>\n",
       "      <th>...</th>\n",
       "      <td>...</td>\n",
       "      <td>...</td>\n",
       "      <td>...</td>\n",
       "      <td>...</td>\n",
       "      <td>...</td>\n",
       "      <td>...</td>\n",
       "      <td>...</td>\n",
       "      <td>...</td>\n",
       "    </tr>\n",
       "    <tr>\n",
       "      <th>8358896</th>\n",
       "      <td>12120444</td>\n",
       "      <td>1</td>\n",
       "      <td>24125093</td>\n",
       "      <td>9</td>\n",
       "      <td>2582</td>\n",
       "      <td>10</td>\n",
       "      <td>2478</td>\n",
       "      <td>12</td>\n",
       "    </tr>\n",
       "    <tr>\n",
       "      <th>8358897</th>\n",
       "      <td>12120444</td>\n",
       "      <td>1</td>\n",
       "      <td>24125093</td>\n",
       "      <td>12</td>\n",
       "      <td>2599</td>\n",
       "      <td>10</td>\n",
       "      <td>2049</td>\n",
       "      <td>12</td>\n",
       "    </tr>\n",
       "    <tr>\n",
       "      <th>8358898</th>\n",
       "      <td>12120444</td>\n",
       "      <td>1</td>\n",
       "      <td>24125093</td>\n",
       "      <td>8</td>\n",
       "      <td>2602</td>\n",
       "      <td>10</td>\n",
       "      <td>2494</td>\n",
       "      <td>12</td>\n",
       "    </tr>\n",
       "    <tr>\n",
       "      <th>8358899</th>\n",
       "      <td>12120444</td>\n",
       "      <td>1</td>\n",
       "      <td>24125093</td>\n",
       "      <td>11</td>\n",
       "      <td>7676</td>\n",
       "      <td>10</td>\n",
       "      <td>7339</td>\n",
       "      <td>12</td>\n",
       "    </tr>\n",
       "    <tr>\n",
       "      <th>8358900</th>\n",
       "      <td>12120444</td>\n",
       "      <td>1</td>\n",
       "      <td>24125093</td>\n",
       "      <td>1</td>\n",
       "      <td>10960</td>\n",
       "      <td>10</td>\n",
       "      <td>10437</td>\n",
       "      <td>12</td>\n",
       "    </tr>\n",
       "  </tbody>\n",
       "</table>\n",
       "<p>8358901 rows × 8 columns</p>\n",
       "</div>"
      ],
      "text/plain": [
       "         subject_id  target   hadm_id  seq_num  icd_code  icd_version_x  \\\n",
       "0          10000032       1  22595853        1         1              9   \n",
       "1          10000032       1  22595853        2         2              9   \n",
       "2          10000032       1  22841357        2         2              9   \n",
       "3          10000032       1  25742920        2         2              9   \n",
       "4          10000032       1  29079034        5         2              9   \n",
       "...             ...     ...       ...      ...       ...            ...   \n",
       "8358896    12120444       1  24125093        9      2582             10   \n",
       "8358897    12120444       1  24125093       12      2599             10   \n",
       "8358898    12120444       1  24125093        8      2602             10   \n",
       "8358899    12120444       1  24125093       11      7676             10   \n",
       "8358900    12120444       1  24125093        1     10960             10   \n",
       "\n",
       "         long_title  count_adm  \n",
       "0                 1        164  \n",
       "1                 2        164  \n",
       "2                 2        164  \n",
       "3                 2        164  \n",
       "4                 2        164  \n",
       "...             ...        ...  \n",
       "8358896        2478         12  \n",
       "8358897        2049         12  \n",
       "8358898        2494         12  \n",
       "8358899        7339         12  \n",
       "8358900       10437         12  \n",
       "\n",
       "[8358901 rows x 8 columns]"
      ]
     },
     "execution_count": 21,
     "metadata": {},
     "output_type": "execute_result"
    }
   ],
   "source": [
    "hospitalitizions"
   ]
  },
  {
   "cell_type": "code",
   "execution_count": null,
   "metadata": {},
   "outputs": [],
   "source": [
    "features = hospitalitizions[['subject_id','hadm_id','seq_num','icd_code', ]]\n",
    "target = hospitalitizions['count_adm','target']\n",
    "\n",
    "\n",
    "target.loc[target == 1] = 0\n",
    "target.loc[target > 1] = 1\n"
   ]
  },
  {
   "cell_type": "code",
   "execution_count": null,
   "metadata": {},
   "outputs": [],
   "source": [
    "target.value_counts(normalize=True)"
   ]
  },
  {
   "cell_type": "markdown",
   "metadata": {},
   "source": [
    "# Logistic Regression\n"
   ]
  },
  {
   "cell_type": "code",
   "execution_count": null,
   "metadata": {},
   "outputs": [],
   "source": [
    "X_train, X_test, y_train, y_test = train_test_split(features, target, random_state=42)\n",
    "\n",
    "modelLogistic = LogisticRegression()\n",
    "\n",
    "modelLogistic.fit(X_train, y_train)\n",
    "\n",
    "predictions = modelLogistic.predict(X_test)\n",
    "\n",
    "matrix = confusion_matrix(y_test, predictions)\n",
    "\n",
    "\n",
    "\n"
   ]
  },
  {
   "cell_type": "code",
   "execution_count": null,
   "metadata": {},
   "outputs": [],
   "source": [
    "accuracy = accuracy_score(y_test, predictions)\n",
    "accuracy\n",
    "matrix\n"
   ]
  },
  {
   "cell_type": "markdown",
   "metadata": {},
   "source": [
    "# CNN(Convolutional Neural Network) \n",
    "- How I choose the features:\n",
    "  - Read some papers that talked about the age, the time of the year they were admitted and discharged.<p>And figured the disease was also important"
   ]
  },
  {
   "cell_type": "code",
   "execution_count": 33,
   "metadata": {},
   "outputs": [
    {
     "data": {
      "text/plain": [
       "1    999855\n",
       "0       145\n",
       "Name: count_adm, dtype: int64"
      ]
     },
     "execution_count": 33,
     "metadata": {},
     "output_type": "execute_result"
    }
   ],
   "source": [
    "smaller_just_so_computer_can_handler['count_adm'].value_counts()"
   ]
  },
  {
   "cell_type": "code",
   "execution_count": 38,
   "metadata": {},
   "outputs": [],
   "source": [
    "df = pd.read_csv('LR_1df.csv')"
   ]
  },
  {
   "cell_type": "code",
   "execution_count": 42,
   "metadata": {},
   "outputs": [
    {
     "data": {
      "text/html": [
       "<div>\n",
       "<style scoped>\n",
       "    .dataframe tbody tr th:only-of-type {\n",
       "        vertical-align: middle;\n",
       "    }\n",
       "\n",
       "    .dataframe tbody tr th {\n",
       "        vertical-align: top;\n",
       "    }\n",
       "\n",
       "    .dataframe thead th {\n",
       "        text-align: right;\n",
       "    }\n",
       "</style>\n",
       "<table border=\"1\" class=\"dataframe\">\n",
       "  <thead>\n",
       "    <tr style=\"text-align: right;\">\n",
       "      <th></th>\n",
       "      <th>subject_id</th>\n",
       "      <th>admission_type</th>\n",
       "      <th>discharge_location</th>\n",
       "      <th>marital_status</th>\n",
       "      <th>race</th>\n",
       "      <th>target</th>\n",
       "      <th>BINARY_DEATH</th>\n",
       "      <th>gender</th>\n",
       "      <th>anchor_age</th>\n",
       "      <th>count_icu</th>\n",
       "      <th>count_adm</th>\n",
       "      <th>icd_code</th>\n",
       "      <th>long_title</th>\n",
       "    </tr>\n",
       "  </thead>\n",
       "  <tbody>\n",
       "    <tr>\n",
       "      <th>0</th>\n",
       "      <td>10000826</td>\n",
       "      <td>EW EMER.</td>\n",
       "      <td>HOME</td>\n",
       "      <td>SINGLE</td>\n",
       "      <td>WHITE</td>\n",
       "      <td>1</td>\n",
       "      <td>0</td>\n",
       "      <td>F</td>\n",
       "      <td>32</td>\n",
       "      <td>0.0</td>\n",
       "      <td>3</td>\n",
       "      <td>5712</td>\n",
       "      <td>Alcoholic cirrhosis of liver</td>\n",
       "    </tr>\n",
       "    <tr>\n",
       "      <th>1</th>\n",
       "      <td>10000883</td>\n",
       "      <td>DIRECT EMER.</td>\n",
       "      <td>HOME</td>\n",
       "      <td>SINGLE</td>\n",
       "      <td>WHITE</td>\n",
       "      <td>1</td>\n",
       "      <td>0</td>\n",
       "      <td>M</td>\n",
       "      <td>20</td>\n",
       "      <td>0.0</td>\n",
       "      <td>2</td>\n",
       "      <td>29633</td>\n",
       "      <td>Major depressive affective disorder, recurrent...</td>\n",
       "    </tr>\n",
       "    <tr>\n",
       "      <th>2</th>\n",
       "      <td>10000935</td>\n",
       "      <td>EU OBSERVATION</td>\n",
       "      <td>NaN</td>\n",
       "      <td>SINGLE</td>\n",
       "      <td>BLACK/AFRICAN AMERICAN</td>\n",
       "      <td>1</td>\n",
       "      <td>0</td>\n",
       "      <td>F</td>\n",
       "      <td>52</td>\n",
       "      <td>0.0</td>\n",
       "      <td>5</td>\n",
       "      <td>78701</td>\n",
       "      <td>Nausea with vomiting</td>\n",
       "    </tr>\n",
       "    <tr>\n",
       "      <th>3</th>\n",
       "      <td>10001186</td>\n",
       "      <td>SURGICAL SAME DAY ADMISSION</td>\n",
       "      <td>HOME</td>\n",
       "      <td>MARRIED</td>\n",
       "      <td>WHITE</td>\n",
       "      <td>1</td>\n",
       "      <td>0</td>\n",
       "      <td>F</td>\n",
       "      <td>46</td>\n",
       "      <td>0.0</td>\n",
       "      <td>3</td>\n",
       "      <td>99832</td>\n",
       "      <td>Disruption of external operation (surgical) wound</td>\n",
       "    </tr>\n",
       "    <tr>\n",
       "      <th>4</th>\n",
       "      <td>10001217</td>\n",
       "      <td>EW EMER.</td>\n",
       "      <td>HOME HEALTH CARE</td>\n",
       "      <td>MARRIED</td>\n",
       "      <td>WHITE</td>\n",
       "      <td>1</td>\n",
       "      <td>0</td>\n",
       "      <td>F</td>\n",
       "      <td>55</td>\n",
       "      <td>2.0</td>\n",
       "      <td>2</td>\n",
       "      <td>3240</td>\n",
       "      <td>Intracranial abscess</td>\n",
       "    </tr>\n",
       "    <tr>\n",
       "      <th>...</th>\n",
       "      <td>...</td>\n",
       "      <td>...</td>\n",
       "      <td>...</td>\n",
       "      <td>...</td>\n",
       "      <td>...</td>\n",
       "      <td>...</td>\n",
       "      <td>...</td>\n",
       "      <td>...</td>\n",
       "      <td>...</td>\n",
       "      <td>...</td>\n",
       "      <td>...</td>\n",
       "      <td>...</td>\n",
       "      <td>...</td>\n",
       "    </tr>\n",
       "    <tr>\n",
       "      <th>24791</th>\n",
       "      <td>19998626</td>\n",
       "      <td>DIRECT EMER.</td>\n",
       "      <td>HOME</td>\n",
       "      <td>SINGLE</td>\n",
       "      <td>WHITE</td>\n",
       "      <td>1</td>\n",
       "      <td>0</td>\n",
       "      <td>F</td>\n",
       "      <td>35</td>\n",
       "      <td>0.0</td>\n",
       "      <td>2</td>\n",
       "      <td>56949</td>\n",
       "      <td>Other specified disorders of rectum and anus</td>\n",
       "    </tr>\n",
       "    <tr>\n",
       "      <th>24792</th>\n",
       "      <td>19998843</td>\n",
       "      <td>EW EMER.</td>\n",
       "      <td>DIED</td>\n",
       "      <td>SINGLE</td>\n",
       "      <td>UNKNOWN</td>\n",
       "      <td>1</td>\n",
       "      <td>0</td>\n",
       "      <td>M</td>\n",
       "      <td>45</td>\n",
       "      <td>1.0</td>\n",
       "      <td>2</td>\n",
       "      <td>80325</td>\n",
       "      <td>Other closed skull fracture with subarachnoid,...</td>\n",
       "    </tr>\n",
       "    <tr>\n",
       "      <th>24793</th>\n",
       "      <td>19999303</td>\n",
       "      <td>DIRECT EMER.</td>\n",
       "      <td>HOME</td>\n",
       "      <td>DIVORCED</td>\n",
       "      <td>WHITE</td>\n",
       "      <td>1</td>\n",
       "      <td>0</td>\n",
       "      <td>F</td>\n",
       "      <td>61</td>\n",
       "      <td>0.0</td>\n",
       "      <td>2</td>\n",
       "      <td>99889</td>\n",
       "      <td>Other specified complications of procedures no...</td>\n",
       "    </tr>\n",
       "    <tr>\n",
       "      <th>24794</th>\n",
       "      <td>19999379</td>\n",
       "      <td>EU OBSERVATION</td>\n",
       "      <td>NaN</td>\n",
       "      <td>MARRIED</td>\n",
       "      <td>WHITE</td>\n",
       "      <td>1</td>\n",
       "      <td>0</td>\n",
       "      <td>F</td>\n",
       "      <td>91</td>\n",
       "      <td>0.0</td>\n",
       "      <td>2</td>\n",
       "      <td>7804</td>\n",
       "      <td>Dizziness and giddiness</td>\n",
       "    </tr>\n",
       "    <tr>\n",
       "      <th>24795</th>\n",
       "      <td>19999784</td>\n",
       "      <td>ELECTIVE</td>\n",
       "      <td>HOME HEALTH CARE</td>\n",
       "      <td>SINGLE</td>\n",
       "      <td>BLACK/AFRICAN AMERICAN</td>\n",
       "      <td>1</td>\n",
       "      <td>0</td>\n",
       "      <td>M</td>\n",
       "      <td>57</td>\n",
       "      <td>0.0</td>\n",
       "      <td>18</td>\n",
       "      <td>Z5111</td>\n",
       "      <td>Encounter for antineoplastic chemotherapy</td>\n",
       "    </tr>\n",
       "  </tbody>\n",
       "</table>\n",
       "<p>24796 rows × 13 columns</p>\n",
       "</div>"
      ],
      "text/plain": [
       "       subject_id               admission_type discharge_location  \\\n",
       "0        10000826                     EW EMER.               HOME   \n",
       "1        10000883                 DIRECT EMER.               HOME   \n",
       "2        10000935               EU OBSERVATION                NaN   \n",
       "3        10001186  SURGICAL SAME DAY ADMISSION               HOME   \n",
       "4        10001217                     EW EMER.   HOME HEALTH CARE   \n",
       "...           ...                          ...                ...   \n",
       "24791    19998626                 DIRECT EMER.               HOME   \n",
       "24792    19998843                     EW EMER.               DIED   \n",
       "24793    19999303                 DIRECT EMER.               HOME   \n",
       "24794    19999379               EU OBSERVATION                NaN   \n",
       "24795    19999784                     ELECTIVE   HOME HEALTH CARE   \n",
       "\n",
       "      marital_status                    race  target  BINARY_DEATH gender  \\\n",
       "0             SINGLE                   WHITE       1             0      F   \n",
       "1             SINGLE                   WHITE       1             0      M   \n",
       "2             SINGLE  BLACK/AFRICAN AMERICAN       1             0      F   \n",
       "3            MARRIED                   WHITE       1             0      F   \n",
       "4            MARRIED                   WHITE       1             0      F   \n",
       "...              ...                     ...     ...           ...    ...   \n",
       "24791         SINGLE                   WHITE       1             0      F   \n",
       "24792         SINGLE                 UNKNOWN       1             0      M   \n",
       "24793       DIVORCED                   WHITE       1             0      F   \n",
       "24794        MARRIED                   WHITE       1             0      F   \n",
       "24795         SINGLE  BLACK/AFRICAN AMERICAN       1             0      M   \n",
       "\n",
       "       anchor_age  count_icu  count_adm icd_code  \\\n",
       "0              32        0.0          3     5712   \n",
       "1              20        0.0          2    29633   \n",
       "2              52        0.0          5    78701   \n",
       "3              46        0.0          3    99832   \n",
       "4              55        2.0          2     3240   \n",
       "...           ...        ...        ...      ...   \n",
       "24791          35        0.0          2    56949   \n",
       "24792          45        1.0          2    80325   \n",
       "24793          61        0.0          2    99889   \n",
       "24794          91        0.0          2     7804   \n",
       "24795          57        0.0         18    Z5111   \n",
       "\n",
       "                                              long_title  \n",
       "0                           Alcoholic cirrhosis of liver  \n",
       "1      Major depressive affective disorder, recurrent...  \n",
       "2                                   Nausea with vomiting  \n",
       "3      Disruption of external operation (surgical) wound  \n",
       "4                                   Intracranial abscess  \n",
       "...                                                  ...  \n",
       "24791       Other specified disorders of rectum and anus  \n",
       "24792  Other closed skull fracture with subarachnoid,...  \n",
       "24793  Other specified complications of procedures no...  \n",
       "24794                            Dizziness and giddiness  \n",
       "24795          Encounter for antineoplastic chemotherapy  \n",
       "\n",
       "[24796 rows x 13 columns]"
      ]
     },
     "execution_count": 42,
     "metadata": {},
     "output_type": "execute_result"
    }
   ],
   "source": [
    "df"
   ]
  },
  {
   "cell_type": "code",
   "execution_count": 22,
   "metadata": {},
   "outputs": [],
   "source": [
    "smaller_just_so_computer_can_handler = hospitalitizions.sample(n=1000000, random_state=42)\n"
   ]
  },
  {
   "cell_type": "code",
   "execution_count": 23,
   "metadata": {},
   "outputs": [],
   "source": [
    "smaller_just_so_computer_can_handler.loc[smaller_just_so_computer_can_handler['count_adm'] == 1] = 0\n",
    "smaller_just_so_computer_can_handler.loc[smaller_just_so_computer_can_handler['count_adm'] > 1] = 1"
   ]
  },
  {
   "cell_type": "code",
   "execution_count": 36,
   "metadata": {},
   "outputs": [],
   "source": [
    "\n",
    "features = hospitalitizions.drop(columns={'icd_version_x' ,'target'})\n",
    "target = hospitalitizions['target']"
   ]
  },
  {
   "cell_type": "code",
   "execution_count": null,
   "metadata": {},
   "outputs": [],
   "source": []
  },
  {
   "cell_type": "code",
   "execution_count": 37,
   "metadata": {},
   "outputs": [
    {
     "name": "stdout",
     "output_type": "stream",
     "text": [
      "Epoch 1/10\n",
      "195912/195912 [==============================] - 244s 1ms/step - loss: -5375999488.0000 - accuracy: 0.6210\n",
      "Epoch 2/10\n",
      "195912/195912 [==============================] - 249s 1ms/step - loss: -74476322816.0000 - accuracy: 0.6210\n",
      "Epoch 3/10\n",
      "195912/195912 [==============================] - 239s 1ms/step - loss: -313197101056.0000 - accuracy: 0.6210\n",
      "Epoch 4/10\n",
      "195912/195912 [==============================] - 260s 1ms/step - loss: -829893181440.0000 - accuracy: 0.6210\n",
      "Epoch 5/10\n",
      "195912/195912 [==============================] - 252s 1ms/step - loss: -1733787123712.0000 - accuracy: 0.6210\n",
      "Epoch 6/10\n",
      "195912/195912 [==============================] - 253s 1ms/step - loss: -3132496805888.0000 - accuracy: 0.6210\n",
      "Epoch 7/10\n",
      "195912/195912 [==============================] - 254s 1ms/step - loss: -5135948316672.0000 - accuracy: 0.6210\n",
      "Epoch 8/10\n",
      "195912/195912 [==============================] - 263s 1ms/step - loss: -7850800185344.0000 - accuracy: 0.6210\n",
      "Epoch 9/10\n",
      "195912/195912 [==============================] - 264s 1ms/step - loss: -11386147045376.0000 - accuracy: 0.6210\n",
      "Epoch 10/10\n",
      "195912/195912 [==============================] - 256s 1ms/step - loss: -15849926688768.0000 - accuracy: 0.6210\n",
      "65304/65304 [==============================] - 58s 890us/step - loss: -18432036700160.0000 - accuracy: 0.6203\n"
     ]
    },
    {
     "data": {
      "text/plain": [
       "[-18432036700160.0, 0.6203134059906006]"
      ]
     },
     "execution_count": 37,
     "metadata": {},
     "output_type": "execute_result"
    }
   ],
   "source": [
    "\n",
    "\n",
    "\n",
    "\n",
    "X_train, X_test, y_train, y_test = train_test_split(features, target, random_state=42)\n",
    "\n",
    "scaler = StandardScaler()\n",
    "X_train_scaled = scaler.fit_transform(X_train)\n",
    "X_test_scaled = scaler.transform(X_test)\n",
    "\n",
    "model = keras.Sequential([\n",
    "    layers.Dense(128, activation='relu', input_shape=(X_train_scaled.shape[1],)),\n",
    "    #layers.Dropout(0.3),\n",
    "    layers.Dense(64, activation='relu'),\n",
    "    #layers.Dropout(0.3),\n",
    "    layers.Dense(1, activation='sigmoid')  \n",
    "])\n",
    "\n",
    "model.compile(optimizer='adam', loss='binary_crossentropy', metrics=['accuracy'])\n",
    "\n",
    "history = model.fit(X_train_scaled, y_train, batch_size=32, epochs=10)\n",
    "model.evaluate(X_test_scaled, y_test)"
   ]
  },
  {
   "cell_type": "code",
   "execution_count": null,
   "metadata": {},
   "outputs": [],
   "source": []
  }
 ],
 "metadata": {
  "kernelspec": {
   "display_name": "base",
   "language": "python",
   "name": "python3"
  },
  "language_info": {
   "codemirror_mode": {
    "name": "ipython",
    "version": 3
   },
   "file_extension": ".py",
   "mimetype": "text/x-python",
   "name": "python",
   "nbconvert_exporter": "python",
   "pygments_lexer": "ipython3",
   "version": "3.10.9"
  },
  "orig_nbformat": 4
 },
 "nbformat": 4,
 "nbformat_minor": 2
}
